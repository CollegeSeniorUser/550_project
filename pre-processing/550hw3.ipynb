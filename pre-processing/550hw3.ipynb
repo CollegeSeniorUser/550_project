{
 "cells": [
  {
   "cell_type": "markdown",
   "id": "9562956c-89c8-40e3-b5f0-f1f60d8836d3",
   "metadata": {},
   "source": [
    "### First count and convert season count to json"
   ]
  },
  {
   "cell_type": "code",
   "execution_count": 1,
   "id": "2c9cca45-fdf7-4666-8b2e-4858333c1336",
   "metadata": {},
   "outputs": [],
   "source": [
    "import pandas as pd"
   ]
  },
  {
   "cell_type": "code",
   "execution_count": 4,
   "id": "165d9c17-530a-4a7b-85bf-74b2d5e91693",
   "metadata": {},
   "outputs": [],
   "source": [
    "data = pd.read_csv('/Users/main/Desktop/hw2_data_v5.tsv', sep='\\t')"
   ]
  },
  {
   "cell_type": "code",
   "execution_count": 7,
   "id": "8309d2e5-07d5-478d-bec3-2c3df2e7920d",
   "metadata": {},
   "outputs": [],
   "source": [
    "season = data['Season']"
   ]
  },
  {
   "cell_type": "code",
   "execution_count": 9,
   "id": "709147a0-ab59-425b-91de-185cbeb5b1a7",
   "metadata": {},
   "outputs": [
    {
     "data": {
      "text/plain": [
       "0    Winter\n",
       "1    Winter\n",
       "2      Fall\n",
       "3       NaN\n",
       "4    Summer\n",
       "Name: Season, dtype: object"
      ]
     },
     "execution_count": 9,
     "metadata": {},
     "output_type": "execute_result"
    }
   ],
   "source": [
    "season.head(5)"
   ]
  },
  {
   "cell_type": "code",
   "execution_count": 19,
   "id": "5d5d8bdc-a081-45f0-b8d1-2748d9dde9c3",
   "metadata": {},
   "outputs": [],
   "source": [
    "s_map = {}\n",
    "for i in season:\n",
    "    if isinstance(i,str):\n",
    "        i = i.lower()  # Convert to lowercase\n",
    "        if i != \"nah\" and i != 'unknown':\n",
    "            if i in s_map.keys():\n",
    "                s_map[i] += 1\n",
    "            else: \n",
    "                s_map.setdefault(i, 1)"
   ]
  },
  {
   "cell_type": "code",
   "execution_count": 20,
   "id": "d8c0d537-4073-4f04-9d26-f546f76d5ea3",
   "metadata": {},
   "outputs": [
    {
     "name": "stdout",
     "output_type": "stream",
     "text": [
      "{'winter': 758, 'fall': 1512, 'summer': 1892, 'spring': 837}\n"
     ]
    }
   ],
   "source": [
    "print(s_map)"
   ]
  },
  {
   "cell_type": "code",
   "execution_count": 21,
   "id": "483ad7de-07e2-4e69-ada0-454b9becf244",
   "metadata": {},
   "outputs": [],
   "source": [
    "import json\n",
    "\n",
    "# Assuming s_map is your dictionary\n",
    "json_string = json.dumps(s_map)\n",
    "\n",
    "# If you want to write it to a file\n",
    "with open('/Users/main/Desktop/season.json', 'w') as json_file:\n",
    "    json.dump(s_map, json_file)"
   ]
  },
  {
   "cell_type": "markdown",
   "id": "f6ef0504-bd86-4310-bfcc-c0bb0efc1e28",
   "metadata": {},
   "source": [
    "### Convert sighting type to json"
   ]
  },
  {
   "cell_type": "code",
   "execution_count": 26,
   "id": "5e36d60f-b996-491e-8900-60821cb194a4",
   "metadata": {},
   "outputs": [],
   "source": [
    "type = data['Class']"
   ]
  },
  {
   "cell_type": "code",
   "execution_count": 27,
   "id": "d94f8bf5-8081-46ca-b28c-156fdec37795",
   "metadata": {},
   "outputs": [],
   "source": [
    "t_map = {}\n",
    "for i in type:\n",
    "    if isinstance(i,str):\n",
    "        i = i.lower()  # Convert to lowercase\n",
    "        if i in t_map.keys():\n",
    "            t_map[i] += 1\n",
    "        else: \n",
    "            t_map.setdefault(i, 1)"
   ]
  },
  {
   "cell_type": "code",
   "execution_count": 28,
   "id": "0e3a8416-2a55-4076-81e7-c468f763a16b",
   "metadata": {},
   "outputs": [
    {
     "data": {
      "text/plain": [
       "3"
      ]
     },
     "execution_count": 28,
     "metadata": {},
     "output_type": "execute_result"
    }
   ],
   "source": [
    "len(t_map)"
   ]
  },
  {
   "cell_type": "code",
   "execution_count": 29,
   "id": "f646d7fe-8c2a-498f-a5c4-ddcb48d21527",
   "metadata": {},
   "outputs": [
    {
     "name": "stdout",
     "output_type": "stream",
     "text": [
      "{'class a': 2500, 'class b': 3009, 'class c': 30}\n"
     ]
    }
   ],
   "source": [
    "print(t_map)"
   ]
  },
  {
   "cell_type": "code",
   "execution_count": 30,
   "id": "3e8bf4bf-9439-4362-8c7f-2578af3257bf",
   "metadata": {},
   "outputs": [],
   "source": [
    "import json\n",
    "\n",
    "# Assuming s_map is your dictionary\n",
    "json_string = json.dumps(t_map)\n",
    "\n",
    "# If you want to write it to a file\n",
    "with open('/Users/main/Desktop/type.json', 'w') as json_file:\n",
    "    json.dump(t_map, json_file)"
   ]
  },
  {
   "cell_type": "code",
   "execution_count": null,
   "id": "10cde8cb-b0d6-4cc5-b4dc-a86e93e3fdf7",
   "metadata": {},
   "outputs": [],
   "source": []
  }
 ],
 "metadata": {
  "kernelspec": {
   "display_name": "Python 3 (ipykernel)",
   "language": "python",
   "name": "python3"
  },
  "language_info": {
   "codemirror_mode": {
    "name": "ipython",
    "version": 3
   },
   "file_extension": ".py",
   "mimetype": "text/x-python",
   "name": "python",
   "nbconvert_exporter": "python",
   "pygments_lexer": "ipython3",
   "version": "3.10.13"
  }
 },
 "nbformat": 4,
 "nbformat_minor": 5
}
